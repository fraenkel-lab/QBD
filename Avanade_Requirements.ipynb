{
 "cells": [
  {
   "cell_type": "markdown",
   "metadata": {},
   "source": [
    "# AnswerALS Cloud: Technical Requirements\n",
    "\n",
    "#### Alex LeNail, alex@lenail.org\n",
    "\n",
    "This notebook describes requirements for a system to **\"Query by Data\"** and **\"Compute on Data\"** against the AnswerALS datastore in Azure. \n",
    "\n",
    "[This document provides background on the problem, and a proposed technical architecture to solve it](https://docs.google.com/document/d/1nPZIVqYmNdhf-OSJI7oaNlwPq334o-h0EWiNTRKwjzs/edit?usp=sharing). One section from that document I'd like to highligh here is the conclusion, regarding considerations for the system: \n",
    "\n",
    "> We should evaluate competing options on the basis of: \n",
    "> - **Query speed**: How long would it take to run a typical “data query” via each of these technologies? \n",
    "> - **Flexibility & Completeness**: What operations are supported by each of these technologies? For Compute on Data specifically: Could I run python, R, arbitrary binaries / bash? What would the technology allow me? \n",
    "> - **Familiarity & ease of use**: Are the end users already familiar with the proposed technology? If not, what is the learning curve for an average bioinformatician? Once they’ve learned, how easy is it for an experienced user to run queries? \n",
    "> - **Development Cost**: Whatever we develop should rely heavily on Azure technologies, and avoid reinventing the wheel. \n",
    "> - **Maintenance Cost**: Whatever we develop should be sufficiently robust and minimal as to require minimal maintenance, and it should be sufficiently simple that a grad student would be able to debug it, should they need to. \n",
    "\n",
    "This notebook contains a set of representative operations we want to execute via this system. I'm calling the system \"QBD\" for \"Query By Data\"\n",
    "\n",
    "Once all of the cells in this notebook run and yeild correct answers, then it can be said that our technical requiremnts for the system were met. We make no hard constraints on the implementation, but we hope implementers will heed the 5 considerations described above. \n",
    "\n"
   ]
  },
  {
   "cell_type": "code",
   "execution_count": 1,
   "metadata": {},
   "outputs": [],
   "source": [
    "import numpy as np\n",
    "import pandas as pd\n",
    "import requests\n",
    "# import qbd"
   ]
  },
  {
   "cell_type": "markdown",
   "metadata": {},
   "source": [
    "The python package `qbd` provides a python interface to the QBD API. \n",
    "\n",
    "Consortium users will authenticate using their credentials, granting them a token valid for ~24h. "
   ]
  },
  {
   "cell_type": "code",
   "execution_count": null,
   "metadata": {},
   "outputs": [],
   "source": [
    "session_token = qbd.get_session(email='lenail@mit.edu', password=\"XXXXXX\")"
   ]
  },
  {
   "cell_type": "markdown",
   "metadata": {},
   "source": [
    "# I. "
   ]
  },
  {
   "cell_type": "markdown",
   "metadata": {},
   "source": [
    "### 1. Find male ALS patients over the age of 50\n",
    "\n",
    "Possible via CDR"
   ]
  },
  {
   "cell_type": "code",
   "execution_count": 2,
   "metadata": {},
   "outputs": [
    {
     "name": "stdout",
     "output_type": "stream",
     "text": [
      "352 patients meet those criteria\n"
     ]
    }
   ],
   "source": [
    "patients = pd.read_json('http://thecdr.westus.cloudapp.azure.com:3000/patient?sex=eq.Male&Condition=eq.ALS&age=gt.50').NeuroGUID.tolist()\n",
    "print(len(patients), 'patients meet those criteria')"
   ]
  },
  {
   "cell_type": "markdown",
   "metadata": {},
   "source": [
    "### 2. Get their gVCFs\n",
    "\n",
    "Possible via CDR"
   ]
  },
  {
   "cell_type": "code",
   "execution_count": 3,
   "metadata": {},
   "outputs": [
    {
     "name": "stdout",
     "output_type": "stream",
     "text": [
      "Of those, we have gVCFs for 169\n"
     ]
    },
    {
     "data": {
      "text/html": [
       "<div>\n",
       "<style scoped>\n",
       "    .dataframe tbody tr th:only-of-type {\n",
       "        vertical-align: middle;\n",
       "    }\n",
       "\n",
       "    .dataframe tbody tr th {\n",
       "        vertical-align: top;\n",
       "    }\n",
       "\n",
       "    .dataframe thead th {\n",
       "        text-align: right;\n",
       "    }\n",
       "</style>\n",
       "<table border=\"1\" class=\"dataframe\">\n",
       "  <thead>\n",
       "    <tr style=\"text-align: right;\">\n",
       "      <th></th>\n",
       "      <th>CGND_ID</th>\n",
       "      <th>NeuroGUID</th>\n",
       "      <th>data_level</th>\n",
       "      <th>differentiation</th>\n",
       "      <th>experiment</th>\n",
       "      <th>iPSC_Line</th>\n",
       "      <th>line</th>\n",
       "      <th>omic</th>\n",
       "      <th>path</th>\n",
       "    </tr>\n",
       "  </thead>\n",
       "  <tbody>\n",
       "    <tr>\n",
       "      <th>5</th>\n",
       "      <td>CGND-HDA-01381</td>\n",
       "      <td>NEURR881FKY</td>\n",
       "      <td>3</td>\n",
       "      <td>NaN</td>\n",
       "      <td>WGS</td>\n",
       "      <td>NaN</td>\n",
       "      <td>NaN</td>\n",
       "      <td>genomics</td>\n",
       "      <td>genomics/3_vcf/CGND_12620/Sample_CGND-HDA-0138...</td>\n",
       "    </tr>\n",
       "    <tr>\n",
       "      <th>8</th>\n",
       "      <td>CGND-HDA-01381</td>\n",
       "      <td>NEURR881FKY</td>\n",
       "      <td>3</td>\n",
       "      <td>NaN</td>\n",
       "      <td>WGS</td>\n",
       "      <td>NaN</td>\n",
       "      <td>NaN</td>\n",
       "      <td>genomics</td>\n",
       "      <td>genomics/3_vcf/CGND_12620/Sample_CGND-HDA-0138...</td>\n",
       "    </tr>\n",
       "    <tr>\n",
       "      <th>13</th>\n",
       "      <td>CGND-HDA-01376</td>\n",
       "      <td>NEUDH063DEA</td>\n",
       "      <td>3</td>\n",
       "      <td>NaN</td>\n",
       "      <td>WGS</td>\n",
       "      <td>NaN</td>\n",
       "      <td>NaN</td>\n",
       "      <td>genomics</td>\n",
       "      <td>genomics/3_vcf/CGND_12620/Sample_CGND-HDA-0137...</td>\n",
       "    </tr>\n",
       "    <tr>\n",
       "      <th>15</th>\n",
       "      <td>CGND-HDA-01376</td>\n",
       "      <td>NEUDH063DEA</td>\n",
       "      <td>3</td>\n",
       "      <td>NaN</td>\n",
       "      <td>WGS</td>\n",
       "      <td>NaN</td>\n",
       "      <td>NaN</td>\n",
       "      <td>genomics</td>\n",
       "      <td>genomics/3_vcf/CGND_12620/Sample_CGND-HDA-0137...</td>\n",
       "    </tr>\n",
       "    <tr>\n",
       "      <th>26</th>\n",
       "      <td>CGND-HDA-01371</td>\n",
       "      <td>NEUCT842RJV</td>\n",
       "      <td>3</td>\n",
       "      <td>NaN</td>\n",
       "      <td>WGS</td>\n",
       "      <td>NaN</td>\n",
       "      <td>NaN</td>\n",
       "      <td>genomics</td>\n",
       "      <td>genomics/3_vcf/CGND_12620/Sample_CGND-HDA-0137...</td>\n",
       "    </tr>\n",
       "  </tbody>\n",
       "</table>\n",
       "</div>"
      ],
      "text/plain": [
       "           CGND_ID    NeuroGUID  data_level  differentiation experiment  \\\n",
       "5   CGND-HDA-01381  NEURR881FKY           3              NaN        WGS   \n",
       "8   CGND-HDA-01381  NEURR881FKY           3              NaN        WGS   \n",
       "13  CGND-HDA-01376  NEUDH063DEA           3              NaN        WGS   \n",
       "15  CGND-HDA-01376  NEUDH063DEA           3              NaN        WGS   \n",
       "26  CGND-HDA-01371  NEUCT842RJV           3              NaN        WGS   \n",
       "\n",
       "    iPSC_Line  line      omic  \\\n",
       "5         NaN   NaN  genomics   \n",
       "8         NaN   NaN  genomics   \n",
       "13        NaN   NaN  genomics   \n",
       "15        NaN   NaN  genomics   \n",
       "26        NaN   NaN  genomics   \n",
       "\n",
       "                                                 path  \n",
       "5   genomics/3_vcf/CGND_12620/Sample_CGND-HDA-0138...  \n",
       "8   genomics/3_vcf/CGND_12620/Sample_CGND-HDA-0138...  \n",
       "13  genomics/3_vcf/CGND_12620/Sample_CGND-HDA-0137...  \n",
       "15  genomics/3_vcf/CGND_12620/Sample_CGND-HDA-0137...  \n",
       "26  genomics/3_vcf/CGND_12620/Sample_CGND-HDA-0137...  "
      ]
     },
     "execution_count": 3,
     "metadata": {},
     "output_type": "execute_result"
    }
   ],
   "source": [
    "files = pd.read_json(f'http://thecdr.westus.cloudapp.azure.com:3000/file?omic=eq.genomics&data_level=eq.3&NeuroGUID=in.({\",\".join(patients)})')\n",
    "files = files[files.path.str.endswith('.raw.vcf.gz.tbi') | files.path.str.endswith('.raw.vcf.gz')]\n",
    "print('Of those, we have gVCFs for', int(len(files)/2))\n",
    "files.head()\n"
   ]
  },
  {
   "cell_type": "markdown",
   "metadata": {},
   "source": [
    "### 3. Which of them have variants in SOD1? \n",
    "\n",
    "<span style=\"color:darkred\">Required from QBD</span>"
   ]
  },
  {
   "cell_type": "code",
   "execution_count": 15,
   "metadata": {},
   "outputs": [],
   "source": [
    "gVCFs_and_indexes = [paths.tolist() for GUID, paths in files.groupby('NeuroGUID')['path']]\n",
    "\n",
    "def mapper(gVCF_and_index, **kwargs):\n",
    "#     This function takes a gVCF file, and using various python genomics packages\n",
    "#     determines whether the gVCF contains one or more variants at the SOD1 locus\n",
    "\n",
    "results = qbd.map(mapper, gVCFs_and_indexes, interpreter='python', args={'reference_genome': '/data/hg38.gtf'}, session=session_token)"
   ]
  },
  {
   "cell_type": "markdown",
   "metadata": {},
   "source": [
    "The above shows an example use case for the principal function provided by QBD: `map`. \n",
    "    \n",
    "In the example use case, the AnswerALS member analyst defines a function `mapper` which takes a single file and keyword arguments (`kwargs`)\n",
    "\n",
    "This function is then applied against all the files in the list `gVCFs_and_indexes`, and the results are returned in a python list.\n",
    "\n"
   ]
  },
  {
   "cell_type": "markdown",
   "metadata": {},
   "source": [
    "### 4. Compare the RNA expression of SOD2 of patients with SOD1 mutations versus not\n",
    "\n",
    "<span style=\"color:darkred\">Required from QBD</span>"
   ]
  },
  {
   "cell_type": "code",
   "execution_count": null,
   "metadata": {},
   "outputs": [],
   "source": [
    "def mapper(gVCF_and_index, **kwargs):\n",
    "#     This function takes a gVCF file, and using various python genomics packages,\n",
    "#     counts the variants which fall in each of the three types of regions.\n",
    "\n",
    "results = qbd.map(mapper, gVCFs_and_indexes, interpreter='python', args={'reference_genome': '/data/hg38.gtf'}, session=session_token)"
   ]
  },
  {
   "cell_type": "code",
   "execution_count": 3,
   "metadata": {},
   "outputs": [],
   "source": [
    "# plot the results (locally -- without qbd)"
   ]
  },
  {
   "cell_type": "markdown",
   "metadata": {},
   "source": [
    "# II. "
   ]
  },
  {
   "cell_type": "markdown",
   "metadata": {},
   "source": [
    "### 1. Get female patients / female controls // male patients / male controls\n",
    "\n",
    "Possible via CDR"
   ]
  },
  {
   "cell_type": "code",
   "execution_count": 4,
   "metadata": {},
   "outputs": [
    {
     "data": {
      "text/plain": [
       "(262, 63, 454, 33)"
      ]
     },
     "execution_count": 4,
     "metadata": {},
     "output_type": "execute_result"
    }
   ],
   "source": [
    "female_patients = pd.read_json('http://thecdr.westus.cloudapp.azure.com:3000/patient?sex=eq.Female&Condition=eq.ALS').NeuroGUID.tolist()\n",
    "female_controls = pd.read_json('http://thecdr.westus.cloudapp.azure.com:3000/patient?sex=eq.Female&Condition=eq.Healthy%20Control').NeuroGUID.tolist()\n",
    "\n",
    "male_patients = pd.read_json('http://thecdr.westus.cloudapp.azure.com:3000/patient?sex=eq.Male&Condition=eq.ALS').NeuroGUID.tolist()\n",
    "male_controls = pd.read_json('http://thecdr.westus.cloudapp.azure.com:3000/patient?sex=eq.Male&Condition=eq.Healthy%20Control').NeuroGUID.tolist()\n",
    "\n",
    "len(female_patients), len(female_controls), len(male_patients), len(male_controls)"
   ]
  },
  {
   "cell_type": "markdown",
   "metadata": {},
   "source": [
    "### 2. What are differentially expressed proteins between female/female vs male/male? \n",
    "\n",
    "<span style=\"color:darkred\">Required from QBD</span>"
   ]
  },
  {
   "cell_type": "code",
   "execution_count": null,
   "metadata": {},
   "outputs": [],
   "source": [
    "def mapper(gVCF_and_index, **kwargs):\n",
    "#     This function takes a gVCF file, and using various python genomics packages,\n",
    "#     counts the variants which fall in each of the three types of regions.\n",
    "\n",
    "results = qbd.map(mapper, gVCFs_and_indexes, interpreter='python', args={'reference_genome': '/data/hg38.gtf'}, session=session_token)"
   ]
  },
  {
   "cell_type": "markdown",
   "metadata": {},
   "source": [
    "# III. "
   ]
  },
  {
   "cell_type": "markdown",
   "metadata": {},
   "source": [
    "### 1. Get the gVCF files of the entire cohort\n",
    "\n",
    "Possible via CDR"
   ]
  },
  {
   "cell_type": "code",
   "execution_count": 5,
   "metadata": {},
   "outputs": [
    {
     "data": {
      "text/html": [
       "<div>\n",
       "<style scoped>\n",
       "    .dataframe tbody tr th:only-of-type {\n",
       "        vertical-align: middle;\n",
       "    }\n",
       "\n",
       "    .dataframe tbody tr th {\n",
       "        vertical-align: top;\n",
       "    }\n",
       "\n",
       "    .dataframe thead th {\n",
       "        text-align: right;\n",
       "    }\n",
       "</style>\n",
       "<table border=\"1\" class=\"dataframe\">\n",
       "  <thead>\n",
       "    <tr style=\"text-align: right;\">\n",
       "      <th></th>\n",
       "      <th>CGND_ID</th>\n",
       "      <th>NeuroGUID</th>\n",
       "      <th>data_level</th>\n",
       "      <th>differentiation</th>\n",
       "      <th>experiment</th>\n",
       "      <th>iPSC_Line</th>\n",
       "      <th>line</th>\n",
       "      <th>omic</th>\n",
       "      <th>path</th>\n",
       "    </tr>\n",
       "  </thead>\n",
       "  <tbody>\n",
       "    <tr>\n",
       "      <th>5</th>\n",
       "      <td>CGND-HDA-01381</td>\n",
       "      <td>NEURR881FKY</td>\n",
       "      <td>3</td>\n",
       "      <td>NaN</td>\n",
       "      <td>WGS</td>\n",
       "      <td>NaN</td>\n",
       "      <td>NaN</td>\n",
       "      <td>genomics</td>\n",
       "      <td>genomics/3_vcf/CGND_12620/Sample_CGND-HDA-0138...</td>\n",
       "    </tr>\n",
       "    <tr>\n",
       "      <th>8</th>\n",
       "      <td>CGND-HDA-01381</td>\n",
       "      <td>NEURR881FKY</td>\n",
       "      <td>3</td>\n",
       "      <td>NaN</td>\n",
       "      <td>WGS</td>\n",
       "      <td>NaN</td>\n",
       "      <td>NaN</td>\n",
       "      <td>genomics</td>\n",
       "      <td>genomics/3_vcf/CGND_12620/Sample_CGND-HDA-0138...</td>\n",
       "    </tr>\n",
       "    <tr>\n",
       "      <th>13</th>\n",
       "      <td>CGND-HDA-01376</td>\n",
       "      <td>NEUDH063DEA</td>\n",
       "      <td>3</td>\n",
       "      <td>NaN</td>\n",
       "      <td>WGS</td>\n",
       "      <td>NaN</td>\n",
       "      <td>NaN</td>\n",
       "      <td>genomics</td>\n",
       "      <td>genomics/3_vcf/CGND_12620/Sample_CGND-HDA-0137...</td>\n",
       "    </tr>\n",
       "    <tr>\n",
       "      <th>15</th>\n",
       "      <td>CGND-HDA-01376</td>\n",
       "      <td>NEUDH063DEA</td>\n",
       "      <td>3</td>\n",
       "      <td>NaN</td>\n",
       "      <td>WGS</td>\n",
       "      <td>NaN</td>\n",
       "      <td>NaN</td>\n",
       "      <td>genomics</td>\n",
       "      <td>genomics/3_vcf/CGND_12620/Sample_CGND-HDA-0137...</td>\n",
       "    </tr>\n",
       "    <tr>\n",
       "      <th>26</th>\n",
       "      <td>CGND-HDA-01371</td>\n",
       "      <td>NEUCT842RJV</td>\n",
       "      <td>3</td>\n",
       "      <td>NaN</td>\n",
       "      <td>WGS</td>\n",
       "      <td>NaN</td>\n",
       "      <td>NaN</td>\n",
       "      <td>genomics</td>\n",
       "      <td>genomics/3_vcf/CGND_12620/Sample_CGND-HDA-0137...</td>\n",
       "    </tr>\n",
       "  </tbody>\n",
       "</table>\n",
       "</div>"
      ],
      "text/plain": [
       "           CGND_ID    NeuroGUID  data_level  differentiation experiment  \\\n",
       "5   CGND-HDA-01381  NEURR881FKY           3              NaN        WGS   \n",
       "8   CGND-HDA-01381  NEURR881FKY           3              NaN        WGS   \n",
       "13  CGND-HDA-01376  NEUDH063DEA           3              NaN        WGS   \n",
       "15  CGND-HDA-01376  NEUDH063DEA           3              NaN        WGS   \n",
       "26  CGND-HDA-01371  NEUCT842RJV           3              NaN        WGS   \n",
       "\n",
       "    iPSC_Line  line      omic  \\\n",
       "5         NaN   NaN  genomics   \n",
       "8         NaN   NaN  genomics   \n",
       "13        NaN   NaN  genomics   \n",
       "15        NaN   NaN  genomics   \n",
       "26        NaN   NaN  genomics   \n",
       "\n",
       "                                                 path  \n",
       "5   genomics/3_vcf/CGND_12620/Sample_CGND-HDA-0138...  \n",
       "8   genomics/3_vcf/CGND_12620/Sample_CGND-HDA-0138...  \n",
       "13  genomics/3_vcf/CGND_12620/Sample_CGND-HDA-0137...  \n",
       "15  genomics/3_vcf/CGND_12620/Sample_CGND-HDA-0137...  \n",
       "26  genomics/3_vcf/CGND_12620/Sample_CGND-HDA-0137...  "
      ]
     },
     "execution_count": 5,
     "metadata": {},
     "output_type": "execute_result"
    }
   ],
   "source": [
    "files = pd.read_json('http://thecdr.westus.cloudapp.azure.com:3000/file?omic=eq.genomics&data_level=eq.3')\n",
    "files = files[files.path.str.endswith('.raw.vcf.gz.tbi') | files.path.str.endswith('.raw.vcf.gz')]\n",
    "gVCFs_and_indexes = [paths.tolist() for GUID, paths in files.groupby('NeuroGUID')['path']]\n",
    "files.head()"
   ]
  },
  {
   "cell_type": "markdown",
   "metadata": {},
   "source": [
    "### 2. What is the average number of variants per patient in our  cohort? \n",
    "\n",
    "<span style=\"color:darkred\">Required from QBD</span>"
   ]
  },
  {
   "cell_type": "code",
   "execution_count": null,
   "metadata": {},
   "outputs": [],
   "source": [
    "def mapper(gVCF_and_index, **kwargs):\n",
    "#     This function takes a gVCF file, and using various python genomics packages,\n",
    "#     determines the number of variants contained in the gVCF.\n",
    "\n",
    "results = qbd.map(mapper, gVCFs_and_indexes, interpreter='python', args={}, session=session_token)"
   ]
  },
  {
   "cell_type": "markdown",
   "metadata": {},
   "source": [
    "### 3. How many of each patients' variants are exonic, intronic, and intergenic, per the reference genome? \n",
    "\n",
    "<span style=\"color:darkred\">Required from QBD</span>"
   ]
  },
  {
   "cell_type": "code",
   "execution_count": null,
   "metadata": {},
   "outputs": [],
   "source": [
    "def mapper(gVCF_and_index, **kwargs):\n",
    "#     This function takes a gVCF file, and using various python genomics packages,\n",
    "#     counts the variants which fall in each of the three types of regions.\n",
    "\n",
    "results = qbd.map(mapper, gVCFs_and_indexes, interpreter='python', args={'reference_genome': '/data/hg38.gtf'}, session=session_token)"
   ]
  },
  {
   "cell_type": "markdown",
   "metadata": {},
   "source": [
    "### 4. Get the ATAC-Seq peaks files for every patient in the cohort for which we have peaks\n",
    "\n",
    "Possible via CDR"
   ]
  },
  {
   "cell_type": "code",
   "execution_count": 6,
   "metadata": {},
   "outputs": [
    {
     "data": {
      "text/html": [
       "<div>\n",
       "<style scoped>\n",
       "    .dataframe tbody tr th:only-of-type {\n",
       "        vertical-align: middle;\n",
       "    }\n",
       "\n",
       "    .dataframe tbody tr th {\n",
       "        vertical-align: top;\n",
       "    }\n",
       "\n",
       "    .dataframe thead th {\n",
       "        text-align: right;\n",
       "    }\n",
       "</style>\n",
       "<table border=\"1\" class=\"dataframe\">\n",
       "  <thead>\n",
       "    <tr style=\"text-align: right;\">\n",
       "      <th></th>\n",
       "    </tr>\n",
       "  </thead>\n",
       "  <tbody>\n",
       "  </tbody>\n",
       "</table>\n",
       "</div>"
      ],
      "text/plain": [
       "Empty DataFrame\n",
       "Columns: []\n",
       "Index: []"
      ]
     },
     "execution_count": 6,
     "metadata": {},
     "output_type": "execute_result"
    }
   ],
   "source": [
    "peaks_files = pd.read_json('http://thecdr.westus.cloudapp.azure.com:3000/file?omic=eq.epigenomics&data_level=eq.3')\n",
    "peaks_files.head()"
   ]
  },
  {
   "cell_type": "markdown",
   "metadata": {},
   "source": [
    "### 5. What distribution of variants fall in peaks versus not for each patient? \n",
    "\n",
    "<span style=\"color:darkred\">Required from QBD</span>"
   ]
  },
  {
   "cell_type": "code",
   "execution_count": null,
   "metadata": {},
   "outputs": [],
   "source": [
    "def mapper(gVCF_and_index, **kwargs):\n",
    "#     This function takes a gVCF file, and using various python genomics packages,\n",
    "#     counts the variants which fall in peaks versus not.\n",
    "\n",
    "results = qbd.map(mapper, gVCFs_and_indexes, interpreter='python', args={'reference_genome': '/data/hg38.gtf'}, session=session_token)"
   ]
  },
  {
   "cell_type": "markdown",
   "metadata": {},
   "source": [
    "# IV."
   ]
  },
  {
   "cell_type": "markdown",
   "metadata": {},
   "source": [
    "more ideas? "
   ]
  },
  {
   "cell_type": "code",
   "execution_count": null,
   "metadata": {},
   "outputs": [],
   "source": []
  },
  {
   "cell_type": "markdown",
   "metadata": {},
   "source": [
    "# QBD API Design -- Draft"
   ]
  },
  {
   "cell_type": "markdown",
   "metadata": {},
   "source": [
    "## `qbd.get_session`\n",
    "\n",
    "\n",
    "#### Arguments: \n",
    "- `email` (string):\n",
    "- `password` (string):\n",
    "\n",
    "#### Returns: \n",
    "- `str`:\n"
   ]
  },
  {
   "cell_type": "markdown",
   "metadata": {},
   "source": [
    "## `qbd.map`\n",
    "\n",
    "\n",
    "#### Arguments: \n",
    "- `mapper` (python function, or filepath string): either a python function or a path to a bash or R script.\n",
    "- `files` (list): a python list of filepaths, either on Azure or the local filesystem.\n",
    "- `interpreter` (string): ['python', 'R', or 'shell']\n",
    "- `args` (dict): a dictionary of keyword parameters and associated values, to be passed to the mapper. This dictionary may contain paths to reference datasets (either on the client or in the cloud) which must be appropriately uploaded to each of the machines executing the job. \n",
    "\n",
    "#### Returns: \n",
    "- `list`: the output of the `mapper` against each of the `files`. The mapper may write files to disk on Azure, in which case this list is a list of cloud filepaths. \n"
   ]
  },
  {
   "cell_type": "code",
   "execution_count": null,
   "metadata": {},
   "outputs": [],
   "source": []
  },
  {
   "cell_type": "code",
   "execution_count": null,
   "metadata": {},
   "outputs": [],
   "source": []
  },
  {
   "cell_type": "code",
   "execution_count": null,
   "metadata": {},
   "outputs": [],
   "source": []
  },
  {
   "cell_type": "code",
   "execution_count": null,
   "metadata": {},
   "outputs": [],
   "source": []
  },
  {
   "cell_type": "code",
   "execution_count": null,
   "metadata": {},
   "outputs": [],
   "source": []
  },
  {
   "cell_type": "code",
   "execution_count": null,
   "metadata": {},
   "outputs": [],
   "source": []
  }
 ],
 "metadata": {
  "kernelspec": {
   "display_name": "Python 3",
   "language": "python",
   "name": "python3"
  },
  "language_info": {
   "codemirror_mode": {
    "name": "ipython",
    "version": 3
   },
   "file_extension": ".py",
   "mimetype": "text/x-python",
   "name": "python",
   "nbconvert_exporter": "python",
   "pygments_lexer": "ipython3",
   "version": "3.7.2"
  }
 },
 "nbformat": 4,
 "nbformat_minor": 2
}
